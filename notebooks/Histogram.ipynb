{
 "cells": [
  {
   "cell_type": "markdown",
   "metadata": {},
   "source": [
    "Load image and get the histogram\n"
   ]
  },
  {
   "cell_type": "code",
   "execution_count": 1,
   "metadata": {
    "collapsed": true
   },
   "outputs": [],
   "source": [
    "import os, io\n",
    "import matplotlib.pyplot as plt\n",
    "from mpl_toolkits.mplot3d import Axes3D\n",
    "import numpy as np\n",
    "from PIL import Image\n",
    "\n",
    "data_dir = '../data/'"
   ]
  },
  {
   "cell_type": "code",
   "execution_count": 2,
   "metadata": {},
   "outputs": [
    {
     "name": "stdout",
     "output_type": "stream",
     "text": [
      "1\n"
     ]
    }
   ],
   "source": [
    "pgm = Image.open(data_dir+\"custom2.pgm\")\n",
    "print(len(pgm.split()))"
   ]
  },
  {
   "cell_type": "code",
   "execution_count": 3,
   "metadata": {},
   "outputs": [
    {
     "data": {
      "image/png": "[encoded data removed]",
      "text/plain": [
       "<PIL.PpmImagePlugin.PpmImageFile image mode=L size=200x200 at 0x22FF2E736A0>"
      ]
     },
     "execution_count": 3,
     "metadata": {},
     "output_type": "execute_result"
    }
   ],
   "source": [
    "pgm"
   ]
  },
  {
   "cell_type": "code",
   "execution_count": 4,
   "metadata": {
    "scrolled": true
   },
   "outputs": [
    {
     "data": {
      "image/png": "[encoded data removed]",
      "text/plain": [
       "<matplotlib.figure.Figure at 0x22fe9407518>"
      ]
     },
     "metadata": {},
     "output_type": "display_data"
    }
   ],
   "source": [
    "a = pgm.histogram()\n",
    "def plot_histogram(a):\n",
    "    %matplotlib inline\n",
    "    plt.plot(a)\n",
    "    plt.ylabel('Count')\n",
    "    plt.xlabel('Intensity')\n",
    "    plt.show()\n",
    "plot_histogram(a)"
   ]
  },
  {
   "cell_type": "code",
   "execution_count": 5,
   "metadata": {
    "collapsed": true
   },
   "outputs": [],
   "source": [
    "def load_image(image_path):  \n",
    "    filename =os.path.abspath(image_path)\n",
    "    im = Image.open(filename)\n",
    "    height = im.height\n",
    "    width  = im.width\n",
    "    im = im.convert('RGB')\n",
    "    channels = len(im.split())\n",
    "    return (im,width,height,channels)"
   ]
  },
  {
   "cell_type": "markdown",
   "metadata": {},
   "source": [
    "# Histogram\n",
    "Historam in rgb will be 3 else 1 "
   ]
  },
  {
   "cell_type": "code",
   "execution_count": 6,
   "metadata": {
    "collapsed": true
   },
   "outputs": [],
   "source": [
    "def get_histogram(image):\n",
    "    channels = len(image.split())\n",
    "    pixels = np.asarray(image)\n",
    "    channel_hist= np.zeros((channels,256),dtype=np.int)\n",
    "   \n",
    "    #histogram=[len(channels),[]]\n",
    "    for c in range(channels):\n",
    "        for y in range(image.height):\n",
    "            for x in range(image.width):\n",
    "                if(channels > 1):\n",
    "                    value = pixels[c][y][x] # Image is flipped :\\\n",
    "                else:\n",
    "                    value = pixels[y][x]\n",
    "                #print(value)\n",
    "                channel_hist[c][value]+=1\n",
    "    return channel_hist"
   ]
  },
  {
   "cell_type": "code",
   "execution_count": 7,
   "metadata": {},
   "outputs": [
    {
     "data": {
      "image/png": "[encoded data removed]",
      "text/plain": [
       "<matplotlib.figure.Figure at 0x22ff50a9320>"
      ]
     },
     "metadata": {},
     "output_type": "display_data"
    }
   ],
   "source": [
    "temp =get_histogram(pgm)\n",
    "plot_histogram(temp[0])"
   ]
  },
  {
   "cell_type": "code",
   "execution_count": 8,
   "metadata": {
    "collapsed": true
   },
   "outputs": [],
   "source": [
    "def topographic(image):\n",
    "    channels = len(image.split())\n",
    "    pixels = np.asarray(image)\n",
    "    \n",
    "    top= np.zeros((channels,image.height,image.width),dtype=np.int)\n",
    "   \n",
    "    #histogram=[len(channels),[]]\n",
    "    for c in range(channels):\n",
    "        for y in range(image.height):\n",
    "            for x in range(image.width):\n",
    "                if(channels > 1):\n",
    "                    value = pixels[c][y][x] # Image is flipped :\\\n",
    "                else:\n",
    "                    value = pixels[y][x]\n",
    "                top[c][y][x]=value\n",
    "    return top"
   ]
  },
  {
   "cell_type": "code",
   "execution_count": 9,
   "metadata": {},
   "outputs": [
    {
     "data": {
      "image/png": "[encoded data removed]",
      "text/plain": [
       "<PIL.PpmImagePlugin.PpmImageFile image mode=L size=200x200 at 0x22FF2E736A0>"
      ]
     },
     "execution_count": 9,
     "metadata": {},
     "output_type": "execute_result"
    }
   ],
   "source": [
    "top =topographic(pgm)\n",
    "pgm"
   ]
  },
  {
   "cell_type": "code",
   "execution_count": 10,
   "metadata": {
    "collapsed": true
   },
   "outputs": [],
   "source": [
    "def pl3(data_array):\n",
    "    %matplotlib inline\n",
    "    fig = plt.figure()\n",
    "    ax = fig.add_subplot(111, projection='3d')\n",
    " \n",
    "    x_data, y_data = np.meshgrid( np.arange(data_array.shape[1]),\n",
    "                                  np.arange(data_array.shape[0]) )\n",
    "   \n",
    "    x_data = x_data.flatten()\n",
    "    y_data = y_data.flatten()\n",
    "    z_data = data_array.flatten()\n",
    "    ax.bar3d( x_data,\n",
    "              y_data,\n",
    "              np.zeros(len(z_data)),\n",
    "              10, 10, z_data )\n",
    "\n",
    "    ax.view_init(30, 360)\n",
    "    plt.show()\n",
    "    \n",
    " \n"
   ]
  },
  {
   "cell_type": "code",
   "execution_count": 11,
   "metadata": {
    "scrolled": true
   },
   "outputs": [
    {
     "name": "stdout",
     "output_type": "stream",
     "text": [
      "[[0 0 0 ..., 0 0 0]\n",
      " [0 0 0 ..., 0 0 0]\n",
      " [0 0 0 ..., 0 0 0]\n",
      " ..., \n",
      " [0 0 0 ..., 0 0 0]\n",
      " [0 0 0 ..., 0 0 0]\n",
      " [0 0 0 ..., 0 0 0]]\n"
     ]
    },
    {
     "data": {
      "image/png": "[encoded data removed]",
      "text/plain": [
       "<matplotlib.figure.Figure at 0x22ff50a92b0>"
      ]
     },
     "metadata": {},
     "output_type": "display_data"
    }
   ],
   "source": [
    "print(np.asarray(top[0]))\n",
    "pl3(np.asarray(top[0]))"
   ]
  },
  {
   "cell_type": "markdown",
   "metadata": {},
   "source": [
    "# Watershed\n",
    "* find the min"
   ]
  },
  {
   "cell_type": "code",
   "execution_count": 12,
   "metadata": {},
   "outputs": [
    {
     "name": "stdout",
     "output_type": "stream",
     "text": [
      "[[0 0 0 ..., 0 0 0]\n",
      " [0 0 0 ..., 0 0 0]\n",
      " [0 0 0 ..., 0 0 0]\n",
      " ..., \n",
      " [0 0 0 ..., 0 0 0]\n",
      " [0 0 0 ..., 0 0 0]\n",
      " [0 0 0 ..., 0 0 0]]\n"
     ]
    }
   ],
   "source": [
    "def watershed(image):\n",
    " \n",
    "    pixels = np.array(image)\n",
    "    print(pixels)\n",
    "    section = []\n",
    "    result = []\n",
    "    for i in range(256):\n",
    "        section = np.full((image.height,image.width),255)\n",
    "        for y in range(image.height):            \n",
    "            for x in range(image.width):\n",
    "                if i == pixels[y][x]:\n",
    "                    section[y][x]= 0 #pixels[y][x]\n",
    "        if i ==0 or i ==82 or i ==255:\n",
    "            result.append(section) \n",
    "                        \n",
    "    return result\n",
    "sec = watershed(pgm)\n"
   ]
  },
  {
   "cell_type": "code",
   "execution_count": 13,
   "metadata": {},
   "outputs": [
    {
     "data": {
      "image/png": "[encoded data removed]",
      "text/plain": [
       "<PIL.PpmImagePlugin.PpmImageFile image mode=L size=200x200 at 0x22FF2E736A0>"
      ]
     },
     "execution_count": 13,
     "metadata": {},
     "output_type": "execute_result"
    }
   ],
   "source": [
    "pgm"
   ]
  },
  {
   "cell_type": "code",
   "execution_count": 14,
   "metadata": {},
   "outputs": [
    {
     "data": {
      "image/png": "[encoded data removed]",
      "text/plain": [
       "<PIL.Image.Image image mode=RGB size=200x200 at 0x22F9D241128>"
      ]
     },
     "execution_count": 14,
     "metadata": {},
     "output_type": "execute_result"
    }
   ],
   "source": [
    "img3 = Image.fromarray(sec[0])\n",
    "img3 = img3.convert('RGB')\n",
    "img3"
   ]
  },
  {
   "cell_type": "code",
   "execution_count": 15,
   "metadata": {},
   "outputs": [
    {
     "data": {
      "image/png": "[encoded data removed]",
      "text/plain": [
       "<PIL.Image.Image image mode=RGB size=200x200 at 0x22F9D241358>"
      ]
     },
     "execution_count": 15,
     "metadata": {},
     "output_type": "execute_result"
    }
   ],
   "source": [
    "img3 = Image.fromarray(sec[1])\n",
    "img3 = img3.convert('RGB')\n",
    "img3"
   ]
  },
  {
   "cell_type": "code",
   "execution_count": 16,
   "metadata": {},
   "outputs": [
    {
     "data": {
      "image/png": "[encoded data removed]",
      "text/plain": [
       "<PIL.Image.Image image mode=RGB size=200x200 at 0x22F9D241DD8>"
      ]
     },
     "execution_count": 16,
     "metadata": {},
     "output_type": "execute_result"
    }
   ],
   "source": [
    "img3 = Image.fromarray(sec[2])\n",
    "img3 = img3.convert('RGB')\n",
    "img3"
   ]
  }
 ],
 "metadata": {
  "kernelspec": {
   "display_name": "Python 3",
   "language": "python",
   "name": "python3"
  },
  "language_info": {
   "codemirror_mode": {
    "name": "ipython",
    "version": 3
   },
   "file_extension": ".py",
   "mimetype": "text/x-python",
   "name": "python",
   "nbconvert_exporter": "python",
   "pygments_lexer": "ipython3",
   "version": "3.6.3"
  }
 },
 "nbformat": 4,
 "nbformat_minor": 2
}
