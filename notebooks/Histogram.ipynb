{
 "cells": [
  {
   "cell_type": "markdown",
   "metadata": {},
   "source": [
    "Load image and get the histogram\n"
   ]
  },
  {
   "cell_type": "code",
   "execution_count": 1,
   "metadata": {
    "collapsed": true
   },
   "outputs": [],
   "source": [
    "\n",
    "import matplotlib.pyplot as plt\n",
    "from mpl_toolkits.mplot3d import Axes3D\n",
    "import numpy as np\n",
    "from PIL import Image\n",
    "data_dir = '../data/'"
   ]
  },
  {
   "cell_type": "code",
   "execution_count": 2,
   "metadata": {},
   "outputs": [
    {
     "name": "stdout",
     "output_type": "stream",
     "text": [
      "1\n"
     ]
    }
   ],
   "source": [
    "pgm = Image.open(data_dir+\"otsu-01.pgm\")\n",
    "print(len(pgm.split()))"
   ]
  },
  {
   "cell_type": "code",
   "execution_count": 3,
   "metadata": {},
   "outputs": [
    {
     "data": {
      "image/png": "[encoded data removed]",
      "text/plain": [
       "<PIL.PpmImagePlugin.PpmImageFile image mode=L size=218x176 at 0x7FA07DCC1FD0>"
      ]
     },
     "execution_count": 3,
     "metadata": {},
     "output_type": "execute_result"
    }
   ],
   "source": [
    "pgm"
   ]
  },
  {
   "cell_type": "code",
   "execution_count": null,
   "metadata": {
    "scrolled": true
   },
   "outputs": [],
   "source": [
    "a = pgm.histogram()\n",
    "def plot_histogram(a):\n",
    "    %matplotlib inline\n",
    "    plt.plot(a)\n",
    "    plt.ylabel('Count')\n",
    "    plt.xlabel('Intensity')\n",
    "    plt.show()\n",
    "plot_histogram(a)"
   ]
  },
  {
   "cell_type": "code",
   "execution_count": 5,
   "metadata": {
    "collapsed": true
   },
   "outputs": [],
   "source": [
    "def load_image(image_path):  \n",
    "    filename =os.path.abspath(image_path)\n",
    "    im = Image.open(filename)\n",
    "    height = im.height\n",
    "    width  = im.width\n",
    "    im = im.convert('RGB')\n",
    "    channels = len(im.split())\n",
    "    return (im,width,height,channels)"
   ]
  },
  {
   "cell_type": "markdown",
   "metadata": {},
   "source": [
    "# Histogram\n",
    "Historam in rgb will be 3 else 1 "
   ]
  },
  {
   "cell_type": "code",
   "execution_count": 6,
   "metadata": {
    "collapsed": true
   },
   "outputs": [],
   "source": [
    "def get_histogram(image):\n",
    "    channels = len(image.split())\n",
    "    pixels = np.asarray(image)\n",
    "    channel_hist= np.zeros((channels,255),dtype=np.int)\n",
    "   \n",
    "    #histogram=[len(channels),[]]\n",
    "    for c in range(channels):\n",
    "        for y in range(image.height):\n",
    "            for x in range(image.width):\n",
    "                if(channels > 1):\n",
    "                    value = pixels[c][y][x] # Image is flipped :\\\n",
    "                else:\n",
    "                    value = pixels[y][x]\n",
    "                #print(value)\n",
    "                channel_hist[c][value]+=1\n",
    "    return channel_hist"
   ]
  },
  {
   "cell_type": "code",
   "execution_count": 7,
   "metadata": {
    "collapsed": true
   },
   "outputs": [],
   "source": [
    "temp =get_histogram(pgm)\n",
    "plot_histogram(temp[0])"
   ]
  },
  {
   "cell_type": "code",
   "execution_count": 8,
   "metadata": {
    "collapsed": true
   },
   "outputs": [],
   "source": [
    "def topographic(image):\n",
    "    channels = len(image.split())\n",
    "    pixels = np.asarray(image)\n",
    "    \n",
    "    top= np.zeros((channels,image.height,image.width),dtype=np.int)\n",
    "   \n",
    "    #histogram=[len(channels),[]]\n",
    "    for c in range(channels):\n",
    "        for y in range(image.height):\n",
    "            for x in range(image.width):\n",
    "                if(channels > 1):\n",
    "                    value = pixels[c][y][x] # Image is flipped :\\\n",
    "                else:\n",
    "                    value = pixels[y][x]\n",
    "                top[c][y][x]=value\n",
    "    return top"
   ]
  },
  {
   "cell_type": "code",
   "execution_count": null,
   "metadata": {
    "collapsed": true
   },
   "outputs": [],
   "source": [
    "top =topographic(pgm)"
   ]
  },
  {
   "cell_type": "code",
   "execution_count": null,
   "metadata": {},
   "outputs": [],
   "source": [
    "x,y = top[0].nonzero()\n",
    "x = np.asarray(x)\n",
    "y = np.asarray(y)\n",
    "\n",
    "print(x)\n",
    "print(y)\n",
    "\n",
    "def pl3(data_array):\n",
    "    %matplotlib notebook\n",
    "    fig = plt.figure()\n",
    "    ax = fig.add_subplot(111, projection='3d')\n",
    " \n",
    "    x_data, y_data = np.meshgrid( np.arange(data_array.shape[1]),\n",
    "                                  np.arange(data_array.shape[0]) )\n",
    "   \n",
    "    x_data = x_data.flatten()\n",
    "    y_data = y_data.flatten()\n",
    "    z_data = data_array.flatten()\n",
    "    ax.bar3d( x_data,\n",
    "              y_data,\n",
    "              np.zeros(len(z_data)),\n",
    "              1, 1, z_data )\n",
    "    \n",
    "    plt.show()\n",
    "pl3(top[0])"
   ]
  },
  {
   "cell_type": "code",
   "execution_count": null,
   "metadata": {
    "collapsed": true
   },
   "outputs": [],
   "source": []
  }
 ],
 "metadata": {
  "kernelspec": {
   "display_name": "Python 3",
   "language": "python",
   "name": "python3"
  },
  "language_info": {
   "codemirror_mode": {
    "name": "ipython",
    "version": 3
   },
   "file_extension": ".py",
   "mimetype": "text/x-python",
   "name": "python",
   "nbconvert_exporter": "python",
   "pygments_lexer": "ipython3",
   "version": "3.6.3"
  }
 },
 "nbformat": 4,
 "nbformat_minor": 2
}
